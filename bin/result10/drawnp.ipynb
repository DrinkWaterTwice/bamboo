{
 "cells": [
  {
   "cell_type": "code",
   "execution_count": null,
   "metadata": {},
   "outputs": [],
   "source": [
    "import matplotlib.pyplot as plt\n",
    "%matplotlib inline\n",
    "\n",
    "class result:\n",
    "    def __init__(self, file_path):\n",
    "        self.file_path = file_path\n",
    "        self.fasthotstuff_censorship = read_float_array_from_file(file_path + '/fasthotstuff_censorship.txt')\n",
    "        self.hotstuff_censorship = read_float_array_from_file(file_path + '/hotstuff_censorship.txt')\n",
    "        self.tchs_censorship = read_float_array_from_file(file_path + '/tchs_censorship.txt')\n",
    "        self.fasthotstuff_chainQuality = read_float_array_from_file(file_path + '/fasthotstuff_chainQuality.txt')\n",
    "        self.hotstuff_chainQuality = read_float_array_from_file(file_path + '/hotstuff_chainQuality.txt')\n",
    "        self.tchs_chainQuality = read_float_array_from_file(file_path + '/tchs_chainQuality.txt')\n",
    "        self.fasthotstuff_index = read_float_array_from_file(file_path + '/fasthotstuff_index.txt')\n",
    "        self.hotstuff_index = read_float_array_from_file(file_path + '/hotstuff_index.txt')\n",
    "        self.tchs_index = read_float_array_from_file(file_path + '/tchs_index.txt')\n",
    "\n",
    "\n",
    "    \n",
    "    def get_float_array(self):\n",
    "        return self.float_array\n",
    "\n",
    "    def get_file_path(self):\n",
    "        return self.file_path\n",
    "\n",
    "def read_float_array_from_file(file_path):\n",
    "  try:\n",
    "    with open(file_path, 'r') as file:\n",
    "      data = file.read().strip().split(',')\n",
    "      #除去最后为空的部分\n",
    "      data = data[:800]\n",
    "      float_array = [float(num) for num in data]\n",
    "      return float_array\n",
    "  except FileNotFoundError:\n",
    "    print(f\"File '{file_path}' not found.\")\n",
    "    return []\n",
    "  except Exception as e:\n",
    "    print(f\"An error occurred while reading the file: {str(e)}\")\n",
    "    return []\n",
    "  \n",
    "\n",
    "r101 = result('101')\n",
    "r102 = result('102')\n",
    "r72 = result('72')\n",
    "print(r101.fasthotstuff_censorship)\n"
   ]
  },
  {
   "cell_type": "code",
   "execution_count": null,
   "metadata": {},
   "outputs": [],
   "source": [
    "y = r101.fasthotstuff_chainQuality\n",
    "x = r101.fasthotstuff_index\n",
    "\n",
    "plt.figure()\n",
    "plt.plot(x, y)\n",
    "plt.xlabel('Commit Nodes')\n",
    "plt.ylabel('Chain Quality')\n",
    "plt.show()"
   ]
  }
 ],
 "metadata": {
  "language_info": {
   "name": "python"
  }
 },
 "nbformat": 4,
 "nbformat_minor": 2
}
